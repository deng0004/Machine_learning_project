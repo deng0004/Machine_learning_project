{
 "cells": [
  {
   "cell_type": "code",
   "execution_count": 431,
   "id": "9e22680c",
   "metadata": {},
   "outputs": [],
   "source": [
    "from sklearn.model_selection import train_test_split\n",
    "import pandas as pd\n",
    "import numpy as np\n",
    "import tensorflow as tf\n",
    "from tensorflow import keras"
   ]
  },
  {
   "cell_type": "code",
   "execution_count": null,
   "id": "1c1098e3",
   "metadata": {},
   "outputs": [],
   "source": [
    "def plot_learning_curves(loss, val_loss):\n",
    "    plt.plot(np.arange(len(loss)) + 0.5, loss, \"b.-\", label=\"Training loss\")\n",
    "    plt.plot(np.arange(len(val_loss)) + 1, val_loss, \"r.-\", label=\"Validation loss\")\n",
    "    plt.gca().xaxis.set_major_locator(mpl.ticker.MaxNLocator(integer=True))\n",
    "    plt.axis([1, 20, 0, 0.05])\n",
    "    plt.legend(fontsize=14)\n",
    "    plt.xlabel(\"Epochs\")\n",
    "    plt.ylabel(\"Loss\")\n",
    "    plt.grid(True)"
   ]
  },
  {
   "cell_type": "markdown",
   "id": "46fb0bf6",
   "metadata": {},
   "source": [
    "**training_data_sets**"
   ]
  },
  {
   "cell_type": "code",
   "execution_count": 432,
   "id": "6af91fdb",
   "metadata": {},
   "outputs": [],
   "source": [
    "training_data_store = pd.read_csv('cut_training_data_file/cut_training_data.csv')"
   ]
  },
  {
   "cell_type": "code",
   "execution_count": 433,
   "id": "ea09f75a",
   "metadata": {},
   "outputs": [
    {
     "data": {
      "text/html": [
       "<div>\n",
       "<style scoped>\n",
       "    .dataframe tbody tr th:only-of-type {\n",
       "        vertical-align: middle;\n",
       "    }\n",
       "\n",
       "    .dataframe tbody tr th {\n",
       "        vertical-align: top;\n",
       "    }\n",
       "\n",
       "    .dataframe thead th {\n",
       "        text-align: right;\n",
       "    }\n",
       "</style>\n",
       "<table border=\"1\" class=\"dataframe\">\n",
       "  <thead>\n",
       "    <tr style=\"text-align: right;\">\n",
       "      <th></th>\n",
       "      <th>ax</th>\n",
       "      <th>ay</th>\n",
       "      <th>az</th>\n",
       "      <th>gx</th>\n",
       "      <th>gy</th>\n",
       "      <th>gz</th>\n",
       "      <th>class_</th>\n",
       "    </tr>\n",
       "  </thead>\n",
       "  <tbody>\n",
       "    <tr>\n",
       "      <th>0</th>\n",
       "      <td>3.536667</td>\n",
       "      <td>-8.764157</td>\n",
       "      <td>8.219295</td>\n",
       "      <td>-0.426663</td>\n",
       "      <td>0.376293</td>\n",
       "      <td>0.468237</td>\n",
       "      <td>running</td>\n",
       "    </tr>\n",
       "    <tr>\n",
       "      <th>1</th>\n",
       "      <td>3.972804</td>\n",
       "      <td>-12.131095</td>\n",
       "      <td>11.188315</td>\n",
       "      <td>-0.133465</td>\n",
       "      <td>-0.126467</td>\n",
       "      <td>0.777247</td>\n",
       "      <td>running</td>\n",
       "    </tr>\n",
       "    <tr>\n",
       "      <th>2</th>\n",
       "      <td>3.418738</td>\n",
       "      <td>-14.802985</td>\n",
       "      <td>12.352308</td>\n",
       "      <td>0.195966</td>\n",
       "      <td>-0.441429</td>\n",
       "      <td>0.986390</td>\n",
       "      <td>running</td>\n",
       "    </tr>\n",
       "    <tr>\n",
       "      <th>3</th>\n",
       "      <td>1.820551</td>\n",
       "      <td>-16.844654</td>\n",
       "      <td>8.020269</td>\n",
       "      <td>0.370743</td>\n",
       "      <td>-0.536392</td>\n",
       "      <td>1.180035</td>\n",
       "      <td>running</td>\n",
       "    </tr>\n",
       "    <tr>\n",
       "      <th>4</th>\n",
       "      <td>0.771038</td>\n",
       "      <td>-16.254522</td>\n",
       "      <td>3.320959</td>\n",
       "      <td>-0.066549</td>\n",
       "      <td>-0.279340</td>\n",
       "      <td>1.371567</td>\n",
       "      <td>running</td>\n",
       "    </tr>\n",
       "  </tbody>\n",
       "</table>\n",
       "</div>"
      ],
      "text/plain": [
       "         ax         ay         az        gx        gy        gz   class_\n",
       "0  3.536667  -8.764157   8.219295 -0.426663  0.376293  0.468237  running\n",
       "1  3.972804 -12.131095  11.188315 -0.133465 -0.126467  0.777247  running\n",
       "2  3.418738 -14.802985  12.352308  0.195966 -0.441429  0.986390  running\n",
       "3  1.820551 -16.844654   8.020269  0.370743 -0.536392  1.180035  running\n",
       "4  0.771038 -16.254522   3.320959 -0.066549 -0.279340  1.371567  running"
      ]
     },
     "execution_count": 433,
     "metadata": {},
     "output_type": "execute_result"
    }
   ],
   "source": [
    "training_data_store.head()"
   ]
  },
  {
   "cell_type": "code",
   "execution_count": 434,
   "id": "6322edea",
   "metadata": {},
   "outputs": [
    {
     "data": {
      "text/plain": [
       "True"
      ]
     },
     "execution_count": 434,
     "metadata": {},
     "output_type": "execute_result"
    }
   ],
   "source": [
    "pd.api.types.is_string_dtype(training_data_store['class_'])"
   ]
  },
  {
   "cell_type": "code",
   "execution_count": 435,
   "id": "8bf4ce8e",
   "metadata": {},
   "outputs": [
    {
     "name": "stdout",
     "output_type": "stream",
     "text": [
      "class_\n"
     ]
    }
   ],
   "source": [
    "for label, content in training_data_store.items():\n",
    "    if pd.api.types.is_string_dtype(content):\n",
    "        print(label)"
   ]
  },
  {
   "cell_type": "code",
   "execution_count": 436,
   "id": "ad3e3921",
   "metadata": {},
   "outputs": [],
   "source": [
    "for label, content in training_data_store.items():\n",
    "    if pd.api.types.is_string_dtype(content):\n",
    "        training_data_store[label] = content.astype('category').cat.as_ordered()"
   ]
  },
  {
   "cell_type": "code",
   "execution_count": 437,
   "id": "3acd0e86",
   "metadata": {},
   "outputs": [
    {
     "data": {
      "text/plain": [
       "0        2\n",
       "1        2\n",
       "2        2\n",
       "3        2\n",
       "4        2\n",
       "        ..\n",
       "17820    0\n",
       "17821    0\n",
       "17822    0\n",
       "17823    0\n",
       "17824    0\n",
       "Length: 17825, dtype: int8"
      ]
     },
     "execution_count": 437,
     "metadata": {},
     "output_type": "execute_result"
    }
   ],
   "source": [
    "training_data_store['class_'].cat.codes"
   ]
  },
  {
   "cell_type": "code",
   "execution_count": 438,
   "id": "36c5138b",
   "metadata": {},
   "outputs": [],
   "source": [
    "training_data_store['class_'] = training_data_store['class_'].cat.codes"
   ]
  },
  {
   "cell_type": "code",
   "execution_count": 439,
   "id": "fe8bc601",
   "metadata": {},
   "outputs": [
    {
     "data": {
      "text/html": [
       "<div>\n",
       "<style scoped>\n",
       "    .dataframe tbody tr th:only-of-type {\n",
       "        vertical-align: middle;\n",
       "    }\n",
       "\n",
       "    .dataframe tbody tr th {\n",
       "        vertical-align: top;\n",
       "    }\n",
       "\n",
       "    .dataframe thead th {\n",
       "        text-align: right;\n",
       "    }\n",
       "</style>\n",
       "<table border=\"1\" class=\"dataframe\">\n",
       "  <thead>\n",
       "    <tr style=\"text-align: right;\">\n",
       "      <th></th>\n",
       "      <th>ax</th>\n",
       "      <th>ay</th>\n",
       "      <th>az</th>\n",
       "      <th>gx</th>\n",
       "      <th>gy</th>\n",
       "      <th>gz</th>\n",
       "      <th>class_</th>\n",
       "    </tr>\n",
       "  </thead>\n",
       "  <tbody>\n",
       "    <tr>\n",
       "      <th>0</th>\n",
       "      <td>3.536667</td>\n",
       "      <td>-8.764157</td>\n",
       "      <td>8.219295</td>\n",
       "      <td>-0.426663</td>\n",
       "      <td>0.376293</td>\n",
       "      <td>0.468237</td>\n",
       "      <td>2</td>\n",
       "    </tr>\n",
       "    <tr>\n",
       "      <th>1</th>\n",
       "      <td>3.972804</td>\n",
       "      <td>-12.131095</td>\n",
       "      <td>11.188315</td>\n",
       "      <td>-0.133465</td>\n",
       "      <td>-0.126467</td>\n",
       "      <td>0.777247</td>\n",
       "      <td>2</td>\n",
       "    </tr>\n",
       "    <tr>\n",
       "      <th>2</th>\n",
       "      <td>3.418738</td>\n",
       "      <td>-14.802985</td>\n",
       "      <td>12.352308</td>\n",
       "      <td>0.195966</td>\n",
       "      <td>-0.441429</td>\n",
       "      <td>0.986390</td>\n",
       "      <td>2</td>\n",
       "    </tr>\n",
       "    <tr>\n",
       "      <th>3</th>\n",
       "      <td>1.820551</td>\n",
       "      <td>-16.844654</td>\n",
       "      <td>8.020269</td>\n",
       "      <td>0.370743</td>\n",
       "      <td>-0.536392</td>\n",
       "      <td>1.180035</td>\n",
       "      <td>2</td>\n",
       "    </tr>\n",
       "    <tr>\n",
       "      <th>4</th>\n",
       "      <td>0.771038</td>\n",
       "      <td>-16.254522</td>\n",
       "      <td>3.320959</td>\n",
       "      <td>-0.066549</td>\n",
       "      <td>-0.279340</td>\n",
       "      <td>1.371567</td>\n",
       "      <td>2</td>\n",
       "    </tr>\n",
       "    <tr>\n",
       "      <th>...</th>\n",
       "      <td>...</td>\n",
       "      <td>...</td>\n",
       "      <td>...</td>\n",
       "      <td>...</td>\n",
       "      <td>...</td>\n",
       "      <td>...</td>\n",
       "      <td>...</td>\n",
       "    </tr>\n",
       "    <tr>\n",
       "      <th>17820</th>\n",
       "      <td>-4.225421</td>\n",
       "      <td>-7.347326</td>\n",
       "      <td>2.834419</td>\n",
       "      <td>1.315053</td>\n",
       "      <td>0.989951</td>\n",
       "      <td>0.788295</td>\n",
       "      <td>0</td>\n",
       "    </tr>\n",
       "    <tr>\n",
       "      <th>17821</th>\n",
       "      <td>-3.888998</td>\n",
       "      <td>-6.893213</td>\n",
       "      <td>2.058209</td>\n",
       "      <td>1.380154</td>\n",
       "      <td>1.288926</td>\n",
       "      <td>0.862489</td>\n",
       "      <td>0</td>\n",
       "    </tr>\n",
       "    <tr>\n",
       "      <th>17822</th>\n",
       "      <td>-4.683547</td>\n",
       "      <td>-6.589226</td>\n",
       "      <td>1.510789</td>\n",
       "      <td>1.444906</td>\n",
       "      <td>1.497039</td>\n",
       "      <td>0.967244</td>\n",
       "      <td>0</td>\n",
       "    </tr>\n",
       "    <tr>\n",
       "      <th>17823</th>\n",
       "      <td>-5.238657</td>\n",
       "      <td>-6.579218</td>\n",
       "      <td>0.651558</td>\n",
       "      <td>1.428796</td>\n",
       "      <td>1.569016</td>\n",
       "      <td>1.079469</td>\n",
       "      <td>0</td>\n",
       "    </tr>\n",
       "    <tr>\n",
       "      <th>17824</th>\n",
       "      <td>-5.052723</td>\n",
       "      <td>-6.786039</td>\n",
       "      <td>-0.916491</td>\n",
       "      <td>1.325403</td>\n",
       "      <td>1.399684</td>\n",
       "      <td>1.295959</td>\n",
       "      <td>0</td>\n",
       "    </tr>\n",
       "  </tbody>\n",
       "</table>\n",
       "<p>17825 rows × 7 columns</p>\n",
       "</div>"
      ],
      "text/plain": [
       "             ax         ay         az        gx        gy        gz  class_\n",
       "0      3.536667  -8.764157   8.219295 -0.426663  0.376293  0.468237       2\n",
       "1      3.972804 -12.131095  11.188315 -0.133465 -0.126467  0.777247       2\n",
       "2      3.418738 -14.802985  12.352308  0.195966 -0.441429  0.986390       2\n",
       "3      1.820551 -16.844654   8.020269  0.370743 -0.536392  1.180035       2\n",
       "4      0.771038 -16.254522   3.320959 -0.066549 -0.279340  1.371567       2\n",
       "...         ...        ...        ...       ...       ...       ...     ...\n",
       "17820 -4.225421  -7.347326   2.834419  1.315053  0.989951  0.788295       0\n",
       "17821 -3.888998  -6.893213   2.058209  1.380154  1.288926  0.862489       0\n",
       "17822 -4.683547  -6.589226   1.510789  1.444906  1.497039  0.967244       0\n",
       "17823 -5.238657  -6.579218   0.651558  1.428796  1.569016  1.079469       0\n",
       "17824 -5.052723  -6.786039  -0.916491  1.325403  1.399684  1.295959       0\n",
       "\n",
       "[17825 rows x 7 columns]"
      ]
     },
     "execution_count": 439,
     "metadata": {},
     "output_type": "execute_result"
    }
   ],
   "source": [
    "training_data_store"
   ]
  },
  {
   "cell_type": "markdown",
   "id": "2b2976a1",
   "metadata": {},
   "source": [
    "# Dense"
   ]
  },
  {
   "cell_type": "code",
   "execution_count": 440,
   "id": "36103ede",
   "metadata": {},
   "outputs": [],
   "source": [
    "X = training_data_store.drop(['class_'], axis='columns')\n",
    "y = np.ravel(training_data_store['class_'])"
   ]
  },
  {
   "cell_type": "code",
   "execution_count": 441,
   "id": "ce082d71",
   "metadata": {},
   "outputs": [],
   "source": [
    "X_train, X_temp, y_train, y_temp = train_test_split(X, y, test_size=0.4, random_state=0)\n",
    "X_valid, X_test, y_valid, y_test = train_test_split(X_temp, y_temp, test_size=0.5, random_state=0)"
   ]
  },
  {
   "cell_type": "code",
   "execution_count": 442,
   "id": "76ffd921",
   "metadata": {},
   "outputs": [],
   "source": [
    "from sklearn.preprocessing import StandardScaler\n",
    "scaler = StandardScaler().fit(X_train)\n",
    "X_train = scaler.transform(X_train)\n",
    "X_test = scaler.transform(X_test)"
   ]
  },
  {
   "cell_type": "code",
   "execution_count": 443,
   "id": "f80da64e",
   "metadata": {},
   "outputs": [
    {
     "name": "stdout",
     "output_type": "stream",
     "text": [
      "Epoch 1/8\n",
      "WARNING:tensorflow:Model was constructed with shape (None, None, 1, 6) for input KerasTensor(type_spec=TensorSpec(shape=(None, None, 1, 6), dtype=tf.float32, name='dense_59_input'), name='dense_59_input', description=\"created by layer 'dense_59_input'\"), but it was called on an input with incompatible shape (1, 6).\n",
      "WARNING:tensorflow:Model was constructed with shape (None, None, 1, 6) for input KerasTensor(type_spec=TensorSpec(shape=(None, None, 1, 6), dtype=tf.float32, name='dense_59_input'), name='dense_59_input', description=\"created by layer 'dense_59_input'\"), but it was called on an input with incompatible shape (1, 6).\n",
      "10695/10695 [==============================] - 9s 777us/step - loss: 654609.3750 - accuracy: 0.2510\n",
      "Epoch 2/8\n",
      "10695/10695 [==============================] - 9s 827us/step - loss: -37.6062 - accuracy: 0.2511\n",
      "Epoch 3/8\n",
      "10695/10695 [==============================] - 9s 880us/step - loss: -62.5471 - accuracy: 0.2511\n",
      "Epoch 4/8\n",
      "10695/10695 [==============================] - 11s 1ms/step - loss: -87.4949 - accuracy: 0.2511\n",
      "Epoch 5/8\n",
      "10695/10695 [==============================] - 10s 954us/step - loss: -112.4436 - accuracy: 0.2511\n",
      "Epoch 6/8\n",
      "10695/10695 [==============================] - 9s 846us/step - loss: -137.3822 - accuracy: 0.2511\n",
      "Epoch 7/8\n",
      "10695/10695 [==============================] - 9s 865us/step - loss: -162.3128 - accuracy: 0.2511\n",
      "Epoch 8/8\n",
      "10695/10695 [==============================] - 9s 834us/step - loss: -187.2427 - accuracy: 0.2511\n"
     ]
    },
    {
     "data": {
      "text/plain": [
       "<keras.callbacks.History at 0x1d2658156c0>"
      ]
     },
     "execution_count": 443,
     "metadata": {},
     "output_type": "execute_result"
    }
   ],
   "source": [
    "import tensorflow as tf\n",
    "from keras.models import Sequential\n",
    "import pandas as pd\n",
    "from keras.layers import Dense\n",
    "\n",
    "model = Sequential()\n",
    "model.add(Dense(8, activation='relu', input_shape=(None, 1,6)))\n",
    "model.add(Dense(8, activation='relu'))\n",
    "model.add(Dense(1, activation='sigmoid'))\n",
    "model.compile(loss='binary_crossentropy',\n",
    "optimizer='sgd',\n",
    "metrics=['accuracy'])\n",
    "history = model.fit(X_train, y_train,epochs=8, batch_size=1, verbose=1)"
   ]
  },
  {
   "cell_type": "code",
   "execution_count": null,
   "id": "5f25f3e5",
   "metadata": {},
   "outputs": [],
   "source": [
    "plot_learning_curves(history.history[\"loss\"], history.history[\"val_loss\"])\n",
    "plt.show()"
   ]
  },
  {
   "cell_type": "code",
   "execution_count": null,
   "id": "4ebdc716",
   "metadata": {},
   "outputs": [],
   "source": []
  },
  {
   "cell_type": "code",
   "execution_count": null,
   "id": "a7e097e5",
   "metadata": {},
   "outputs": [],
   "source": []
  },
  {
   "cell_type": "code",
   "execution_count": 444,
   "id": "d7904431",
   "metadata": {},
   "outputs": [],
   "source": [
    "from keras.models import Sequential\n",
    "from keras.layers import LSTM\n",
    "from keras.layers import Dense\n",
    "from keras.layers import Dropout"
   ]
  },
  {
   "cell_type": "code",
   "execution_count": 445,
   "id": "c0e4d804",
   "metadata": {},
   "outputs": [],
   "source": [
    "X = training_data_store.drop(['class_'], axis='columns')\n",
    "y = np.ravel(training_data_store['class_'])"
   ]
  },
  {
   "cell_type": "code",
   "execution_count": 446,
   "id": "2d7ea59a",
   "metadata": {},
   "outputs": [],
   "source": [
    "X_train, X_temp, y_train, y_temp = train_test_split(X, y, test_size=0.4, random_state=0)\n",
    "X_valid, X_test, y_valid, y_test = train_test_split(X_temp, y_temp, test_size=0.5, random_state=0)"
   ]
  },
  {
   "cell_type": "code",
   "execution_count": 447,
   "id": "fbf13ed5",
   "metadata": {},
   "outputs": [],
   "source": [
    "x_train, y_train = X_train , y_train\n",
    "x_test, y_test = X_test, y_test\n",
    "batch_size = 64\n",
    "epochs = 5"
   ]
  },
  {
   "cell_type": "code",
   "execution_count": 448,
   "id": "59ba735a",
   "metadata": {},
   "outputs": [
    {
     "data": {
      "text/plain": [
       "((10695, 6), (10695,))"
      ]
     },
     "execution_count": 448,
     "metadata": {},
     "output_type": "execute_result"
    }
   ],
   "source": [
    "x_train.shape, y_train.shape"
   ]
  },
  {
   "cell_type": "markdown",
   "id": "c2ce30fd",
   "metadata": {},
   "source": [
    "# SimpleRNN"
   ]
  },
  {
   "cell_type": "code",
   "execution_count": 449,
   "id": "06ce93ae",
   "metadata": {},
   "outputs": [],
   "source": [
    "model = Sequential()\n",
    "model.add(keras.Input(shape=(6,1)))\n",
    "model.add(layers.SimpleRNN(128,return_sequences=False, activation='relu')) # N, 128\n",
    "model.add(layers.Dense(10))\n",
    "# model.add(LSTM(units = 50, return_sequences=True, input_shape=(x_train.shape[1], 1)))"
   ]
  },
  {
   "cell_type": "code",
   "execution_count": 450,
   "id": "a8d2a53c",
   "metadata": {},
   "outputs": [],
   "source": [
    "# loss and optimizer\n",
    "loss = keras.losses.SparseCategoricalCrossentropy(from_logits=True)\n",
    "optim = keras.optimizers.Adam(learning_rate=0.001)\n",
    "metrics = ['accuracy']"
   ]
  },
  {
   "cell_type": "code",
   "execution_count": 451,
   "id": "7e570d45",
   "metadata": {},
   "outputs": [],
   "source": [
    "model.compile(loss=loss, optimizer=optim, metrics=metrics)"
   ]
  },
  {
   "cell_type": "code",
   "execution_count": 452,
   "id": "d2db19f9",
   "metadata": {},
   "outputs": [
    {
     "name": "stdout",
     "output_type": "stream",
     "text": [
      "Epoch 1/5\n",
      "168/168 - 1s - loss: 1.0913 - accuracy: 0.5783 - 1s/epoch - 7ms/step\n",
      "Epoch 2/5\n",
      "168/168 - 0s - loss: 0.7169 - accuracy: 0.7406 - 402ms/epoch - 2ms/step\n",
      "Epoch 3/5\n",
      "168/168 - 0s - loss: 0.5904 - accuracy: 0.7821 - 355ms/epoch - 2ms/step\n",
      "Epoch 4/5\n",
      "168/168 - 0s - loss: 0.5399 - accuracy: 0.8013 - 359ms/epoch - 2ms/step\n",
      "Epoch 5/5\n",
      "168/168 - 0s - loss: 0.5042 - accuracy: 0.8162 - 410ms/epoch - 2ms/step\n"
     ]
    },
    {
     "data": {
      "text/plain": [
       "<keras.callbacks.History at 0x1d265922290>"
      ]
     },
     "execution_count": 452,
     "metadata": {},
     "output_type": "execute_result"
    }
   ],
   "source": [
    "model.fit(x_train, y_train, batch_size=batch_size, epochs=epochs, verbose=2)\n"
   ]
  },
  {
   "cell_type": "code",
   "execution_count": 453,
   "id": "ac0214b1",
   "metadata": {},
   "outputs": [
    {
     "name": "stdout",
     "output_type": "stream",
     "text": [
      "56/56 - 0s - loss: 0.4919 - accuracy: 0.8208 - 249ms/epoch - 4ms/step\n"
     ]
    },
    {
     "data": {
      "text/plain": [
       "[0.49192091822624207, 0.8207573890686035]"
      ]
     },
     "execution_count": 453,
     "metadata": {},
     "output_type": "execute_result"
    }
   ],
   "source": [
    "model.evaluate(x_test, y_test, batch_size=batch_size, verbose=2)"
   ]
  },
  {
   "cell_type": "markdown",
   "id": "2da24b6c",
   "metadata": {},
   "source": [
    "# GRU"
   ]
  },
  {
   "cell_type": "code",
   "execution_count": 454,
   "id": "15c49d13",
   "metadata": {},
   "outputs": [
    {
     "name": "stdout",
     "output_type": "stream",
     "text": [
      "Epoch 1/5\n",
      "168/168 - 2s - loss: 1.1838 - accuracy: 0.5154 - 2s/epoch - 11ms/step\n",
      "Epoch 2/5\n",
      "168/168 - 1s - loss: 0.7972 - accuracy: 0.6970 - 778ms/epoch - 5ms/step\n",
      "Epoch 3/5\n",
      "168/168 - 1s - loss: 0.6352 - accuracy: 0.7640 - 846ms/epoch - 5ms/step\n",
      "Epoch 4/5\n",
      "168/168 - 1s - loss: 0.5438 - accuracy: 0.8012 - 860ms/epoch - 5ms/step\n",
      "Epoch 5/5\n",
      "168/168 - 1s - loss: 0.4953 - accuracy: 0.8204 - 796ms/epoch - 5ms/step\n",
      "56/56 - 0s - loss: 0.5216 - accuracy: 0.8098 - 337ms/epoch - 6ms/step\n"
     ]
    },
    {
     "data": {
      "text/plain": [
       "[0.521604061126709, 0.8098176717758179]"
      ]
     },
     "execution_count": 454,
     "metadata": {},
     "output_type": "execute_result"
    }
   ],
   "source": [
    "model = keras.models.Sequential()\n",
    "model.add(keras.Input(shape=(6, 1))) # seq_length, input_size\n",
    "# model.add(layers.SimpleRNN(128,return_sequences=True, activation='relu')) # N, 28, 128\n",
    "model.add(layers.GRU(128,return_sequences=False, activation='relu')) # N, 128\n",
    "\n",
    "model.add(layers.Dense(10))\n",
    "\n",
    "# loss and optimizer\n",
    "loss = keras.losses.SparseCategoricalCrossentropy(from_logits=True)\n",
    "optim = keras.optimizers.Adam(learning_rate=0.001)\n",
    "metrics = ['accuracy']\n",
    "\n",
    "model.compile(loss=loss, optimizer=optim, metrics=metrics)\n",
    "\n",
    "model.fit(x_train, y_train, batch_size=batch_size, epochs=epochs, verbose=2)\n",
    "\n",
    "# evaluate\n",
    "model.evaluate(x_test, y_test, batch_size=batch_size, verbose=2)"
   ]
  },
  {
   "cell_type": "markdown",
   "id": "bc8de2f3",
   "metadata": {},
   "source": [
    "# LSTM"
   ]
  },
  {
   "cell_type": "code",
   "execution_count": 455,
   "id": "9200b543",
   "metadata": {},
   "outputs": [
    {
     "name": "stdout",
     "output_type": "stream",
     "text": [
      "Epoch 1/5\n",
      "168/168 - 2s - loss: 1.2294 - accuracy: 0.4914 - 2s/epoch - 11ms/step\n",
      "Epoch 2/5\n",
      "168/168 - 1s - loss: 0.9171 - accuracy: 0.6347 - 879ms/epoch - 5ms/step\n",
      "Epoch 3/5\n",
      "168/168 - 1s - loss: 0.7524 - accuracy: 0.7096 - 981ms/epoch - 6ms/step\n",
      "Epoch 4/5\n",
      "168/168 - 1s - loss: 0.6591 - accuracy: 0.7525 - 917ms/epoch - 5ms/step\n",
      "Epoch 5/5\n",
      "168/168 - 1s - loss: 0.6043 - accuracy: 0.7765 - 909ms/epoch - 5ms/step\n",
      "56/56 - 0s - loss: 0.5745 - accuracy: 0.7835 - 334ms/epoch - 6ms/step\n"
     ]
    },
    {
     "data": {
      "text/plain": [
       "[0.5744776725769043, 0.783450186252594]"
      ]
     },
     "execution_count": 455,
     "metadata": {},
     "output_type": "execute_result"
    }
   ],
   "source": [
    "model = keras.models.Sequential()\n",
    "model.add(keras.Input(shape=(6, 1))) # seq_length, input_size\n",
    "# model.add(layers.SimpleRNN(128,return_sequences=True, activation='relu')) # N, 28, 128\n",
    "model.add(layers.LSTM(128,return_sequences=False, activation='relu')) # N, 128\n",
    "\n",
    "model.add(layers.Dense(10))\n",
    "\n",
    "# loss and optimizer\n",
    "loss = keras.losses.SparseCategoricalCrossentropy(from_logits=True)\n",
    "optim = keras.optimizers.Adam(learning_rate=0.001)\n",
    "metrics = ['accuracy']\n",
    "\n",
    "model.compile(loss=loss, optimizer=optim, metrics=metrics)\n",
    "\n",
    "model.fit(x_train, y_train, batch_size=batch_size, epochs=epochs, verbose=2)\n",
    "\n",
    "# evaluate\n",
    "model.evaluate(x_test, y_test, batch_size=batch_size, verbose=2)"
   ]
  },
  {
   "cell_type": "markdown",
   "id": "f122a4aa",
   "metadata": {},
   "source": [
    "# Dense"
   ]
  },
  {
   "cell_type": "code",
   "execution_count": 456,
   "id": "2df508b9",
   "metadata": {},
   "outputs": [],
   "source": [
    "model = tf.keras.Sequential([\n",
    "    tf.keras.layers.Dense(16, activation='relu'), # if x <= 0, --> 0, x > 0 --> x\n",
    "    tf.keras.layers.Dense(16, activation='relu'),\n",
    "    tf.keras.layers.Dense(1, activation='sigmoid')\n",
    "])"
   ]
  },
  {
   "cell_type": "code",
   "execution_count": 457,
   "id": "ebc24962",
   "metadata": {},
   "outputs": [],
   "source": [
    "model.compile(optimizer=tf.keras.optimizers.Adam(learning_rate=0.001),\n",
    "             loss=tf.keras.losses.BinaryCrossentropy(),\n",
    "             metrics=['accuracy'])"
   ]
  },
  {
   "cell_type": "code",
   "execution_count": 458,
   "id": "b92e12a2",
   "metadata": {},
   "outputs": [
    {
     "name": "stdout",
     "output_type": "stream",
     "text": [
      "335/335 [==============================] - 0s 809us/step - loss: 8.8606 - accuracy: 0.2745\n"
     ]
    },
    {
     "data": {
      "text/plain": [
       "[8.860629081726074, 0.2745208144187927]"
      ]
     },
     "execution_count": 458,
     "metadata": {},
     "output_type": "execute_result"
    }
   ],
   "source": [
    "model.evaluate(X_train, y_train)"
   ]
  },
  {
   "cell_type": "code",
   "execution_count": 459,
   "id": "ea522072",
   "metadata": {},
   "outputs": [
    {
     "name": "stdout",
     "output_type": "stream",
     "text": [
      "112/112 [==============================] - 0s 1ms/step - loss: 8.8132 - accuracy: 0.2805\n"
     ]
    },
    {
     "data": {
      "text/plain": [
       "[8.813237190246582, 0.28050491213798523]"
      ]
     },
     "execution_count": 459,
     "metadata": {},
     "output_type": "execute_result"
    }
   ],
   "source": [
    "model.evaluate(X_valid, y_valid)"
   ]
  },
  {
   "cell_type": "code",
   "execution_count": 460,
   "id": "7e45013e",
   "metadata": {
    "scrolled": true
   },
   "outputs": [
    {
     "name": "stdout",
     "output_type": "stream",
     "text": [
      "Epoch 1/20\n",
      "669/669 [==============================] - 4s 6ms/step - loss: -235.1996 - accuracy: 0.2428 - val_loss: -1019.5363 - val_accuracy: 0.2496\n",
      "Epoch 2/20\n",
      "669/669 [==============================] - 1s 1ms/step - loss: -4164.0693 - accuracy: 0.2443 - val_loss: -8750.5283 - val_accuracy: 0.2415\n",
      "Epoch 3/20\n",
      "669/669 [==============================] - 1s 1ms/step - loss: -17297.6328 - accuracy: 0.2389 - val_loss: -27263.3320 - val_accuracy: 0.2384\n",
      "Epoch 4/20\n",
      "669/669 [==============================] - 1s 1ms/step - loss: -42248.3164 - accuracy: 0.2367 - val_loss: -58239.5977 - val_accuracy: 0.2359\n",
      "Epoch 5/20\n",
      "669/669 [==============================] - 1s 1ms/step - loss: -80429.0391 - accuracy: 0.2379 - val_loss: -102664.6016 - val_accuracy: 0.2432\n",
      "Epoch 6/20\n",
      "669/669 [==============================] - 1s 1ms/step - loss: -132948.6719 - accuracy: 0.2433 - val_loss: -161977.0156 - val_accuracy: 0.2457\n",
      "Epoch 7/20\n",
      "669/669 [==============================] - 1s 1ms/step - loss: -201032.5938 - accuracy: 0.2434 - val_loss: -237127.0938 - val_accuracy: 0.2446\n",
      "Epoch 8/20\n",
      "669/669 [==============================] - 1s 1ms/step - loss: -285669.6875 - accuracy: 0.2455 - val_loss: -328911.4688 - val_accuracy: 0.2435\n",
      "Epoch 9/20\n",
      "669/669 [==============================] - 1s 1ms/step - loss: -387987.5625 - accuracy: 0.2453 - val_loss: -438936.5000 - val_accuracy: 0.2435\n",
      "Epoch 10/20\n",
      "669/669 [==============================] - 1s 1ms/step - loss: -508355.7812 - accuracy: 0.2449 - val_loss: -566644.9375 - val_accuracy: 0.2424\n",
      "Epoch 11/20\n",
      "669/669 [==============================] - 1s 1ms/step - loss: -649278.3750 - accuracy: 0.2449 - val_loss: -715668.8750 - val_accuracy: 0.2449\n",
      "Epoch 12/20\n",
      "669/669 [==============================] - 1s 1ms/step - loss: -811134.1250 - accuracy: 0.2456 - val_loss: -885734.7500 - val_accuracy: 0.2496\n",
      "Epoch 13/20\n",
      "669/669 [==============================] - 1s 1ms/step - loss: -994793.5625 - accuracy: 0.2453 - val_loss: -1077977.1250 - val_accuracy: 0.2496\n",
      "Epoch 14/20\n",
      "669/669 [==============================] - 1s 1ms/step - loss: -1200795.3750 - accuracy: 0.2459 - val_loss: -1291846.5000 - val_accuracy: 0.2454\n",
      "Epoch 15/20\n",
      "669/669 [==============================] - 1s 1ms/step - loss: -1430086.2500 - accuracy: 0.2457 - val_loss: -1530435.3750 - val_accuracy: 0.2454\n",
      "Epoch 16/20\n",
      "669/669 [==============================] - 1s 1ms/step - loss: -1684317.0000 - accuracy: 0.2459 - val_loss: -1793811.7500 - val_accuracy: 0.2452\n",
      "Epoch 17/20\n",
      "669/669 [==============================] - 1s 1ms/step - loss: -1967338.5000 - accuracy: 0.2460 - val_loss: -2087851.1250 - val_accuracy: 0.2460\n",
      "Epoch 18/20\n",
      "669/669 [==============================] - 1s 1ms/step - loss: -2279071.5000 - accuracy: 0.2464 - val_loss: -2408506.0000 - val_accuracy: 0.2452\n",
      "Epoch 19/20\n",
      "669/669 [==============================] - 1s 1ms/step - loss: -2620246.5000 - accuracy: 0.2453 - val_loss: -2758454.7500 - val_accuracy: 0.2471\n",
      "Epoch 20/20\n",
      "669/669 [==============================] - 1s 1ms/step - loss: -2989409.2500 - accuracy: 0.2468 - val_loss: -3137055.0000 - val_accuracy: 0.2482\n"
     ]
    },
    {
     "data": {
      "text/plain": [
       "<keras.callbacks.History at 0x1d26d9c8c10>"
      ]
     },
     "execution_count": 460,
     "metadata": {},
     "output_type": "execute_result"
    }
   ],
   "source": [
    "model.fit(X_train, y_train, batch_size=16, epochs=20, validation_data=(X_valid, y_valid))"
   ]
  },
  {
   "cell_type": "code",
   "execution_count": 461,
   "id": "5e04804f",
   "metadata": {},
   "outputs": [
    {
     "name": "stdout",
     "output_type": "stream",
     "text": [
      "112/112 [==============================] - 0s 906us/step - loss: -3185349.7500 - accuracy: 0.2494\n"
     ]
    },
    {
     "data": {
      "text/plain": [
       "[-3185349.75, 0.24936886131763458]"
      ]
     },
     "execution_count": 461,
     "metadata": {},
     "output_type": "execute_result"
    }
   ],
   "source": [
    "model.evaluate(X_test, y_test)"
   ]
  },
  {
   "cell_type": "code",
   "execution_count": null,
   "id": "b08308cc",
   "metadata": {},
   "outputs": [],
   "source": []
  },
  {
   "cell_type": "code",
   "execution_count": null,
   "id": "55c4303a",
   "metadata": {},
   "outputs": [],
   "source": []
  },
  {
   "cell_type": "code",
   "execution_count": null,
   "id": "90762157",
   "metadata": {},
   "outputs": [],
   "source": []
  },
  {
   "cell_type": "markdown",
   "id": "2e7a5fd9",
   "metadata": {},
   "source": [
    "**testing_data_sets**"
   ]
  },
  {
   "cell_type": "code",
   "execution_count": 467,
   "id": "20d429e8",
   "metadata": {},
   "outputs": [],
   "source": [
    "testing_data_store = pd.read_csv('cut_testing_data_file/cut_testing_data.csv')"
   ]
  },
  {
   "cell_type": "code",
   "execution_count": 468,
   "id": "caa14089",
   "metadata": {},
   "outputs": [
    {
     "data": {
      "text/html": [
       "<div>\n",
       "<style scoped>\n",
       "    .dataframe tbody tr th:only-of-type {\n",
       "        vertical-align: middle;\n",
       "    }\n",
       "\n",
       "    .dataframe tbody tr th {\n",
       "        vertical-align: top;\n",
       "    }\n",
       "\n",
       "    .dataframe thead th {\n",
       "        text-align: right;\n",
       "    }\n",
       "</style>\n",
       "<table border=\"1\" class=\"dataframe\">\n",
       "  <thead>\n",
       "    <tr style=\"text-align: right;\">\n",
       "      <th></th>\n",
       "      <th>ax</th>\n",
       "      <th>ay</th>\n",
       "      <th>az</th>\n",
       "      <th>gx</th>\n",
       "      <th>gy</th>\n",
       "      <th>gz</th>\n",
       "      <th>class_</th>\n",
       "    </tr>\n",
       "  </thead>\n",
       "  <tbody>\n",
       "    <tr>\n",
       "      <th>0</th>\n",
       "      <td>-1.303614</td>\n",
       "      <td>-6.411490</td>\n",
       "      <td>4.077556</td>\n",
       "      <td>-0.421829</td>\n",
       "      <td>-0.733195</td>\n",
       "      <td>-0.274802</td>\n",
       "      <td>running</td>\n",
       "    </tr>\n",
       "    <tr>\n",
       "      <th>1</th>\n",
       "      <td>-0.998066</td>\n",
       "      <td>-6.549138</td>\n",
       "      <td>4.557804</td>\n",
       "      <td>-0.496127</td>\n",
       "      <td>-0.755675</td>\n",
       "      <td>-0.248011</td>\n",
       "      <td>running</td>\n",
       "    </tr>\n",
       "    <tr>\n",
       "      <th>2</th>\n",
       "      <td>-0.687327</td>\n",
       "      <td>-6.553696</td>\n",
       "      <td>4.994870</td>\n",
       "      <td>-0.511329</td>\n",
       "      <td>-0.774472</td>\n",
       "      <td>-0.243334</td>\n",
       "      <td>running</td>\n",
       "    </tr>\n",
       "    <tr>\n",
       "      <th>3</th>\n",
       "      <td>-0.329969</td>\n",
       "      <td>-6.566999</td>\n",
       "      <td>6.440067</td>\n",
       "      <td>-0.487907</td>\n",
       "      <td>-0.773408</td>\n",
       "      <td>-0.255150</td>\n",
       "      <td>running</td>\n",
       "    </tr>\n",
       "    <tr>\n",
       "      <th>4</th>\n",
       "      <td>-0.195836</td>\n",
       "      <td>-6.753056</td>\n",
       "      <td>6.938913</td>\n",
       "      <td>-0.338978</td>\n",
       "      <td>-0.745797</td>\n",
       "      <td>-0.273982</td>\n",
       "      <td>running</td>\n",
       "    </tr>\n",
       "  </tbody>\n",
       "</table>\n",
       "</div>"
      ],
      "text/plain": [
       "         ax        ay        az        gx        gy        gz   class_\n",
       "0 -1.303614 -6.411490  4.077556 -0.421829 -0.733195 -0.274802  running\n",
       "1 -0.998066 -6.549138  4.557804 -0.496127 -0.755675 -0.248011  running\n",
       "2 -0.687327 -6.553696  4.994870 -0.511329 -0.774472 -0.243334  running\n",
       "3 -0.329969 -6.566999  6.440067 -0.487907 -0.773408 -0.255150  running\n",
       "4 -0.195836 -6.753056  6.938913 -0.338978 -0.745797 -0.273982  running"
      ]
     },
     "execution_count": 468,
     "metadata": {},
     "output_type": "execute_result"
    }
   ],
   "source": [
    "testing_data_store.head()"
   ]
  },
  {
   "cell_type": "code",
   "execution_count": 469,
   "id": "b44769ac",
   "metadata": {},
   "outputs": [
    {
     "data": {
      "text/plain": [
       "True"
      ]
     },
     "execution_count": 469,
     "metadata": {},
     "output_type": "execute_result"
    }
   ],
   "source": [
    "pd.api.types.is_string_dtype(testing_data_store['class_'])"
   ]
  },
  {
   "cell_type": "code",
   "execution_count": 470,
   "id": "098cf244",
   "metadata": {},
   "outputs": [
    {
     "name": "stdout",
     "output_type": "stream",
     "text": [
      "class_\n"
     ]
    }
   ],
   "source": [
    "for label, content in testing_data_store.items():\n",
    "    if pd.api.types.is_string_dtype(content):\n",
    "        print(label)"
   ]
  },
  {
   "cell_type": "code",
   "execution_count": 471,
   "id": "d35ee0f1",
   "metadata": {},
   "outputs": [],
   "source": [
    "for label, content in testing_data_store.items():\n",
    "    if pd.api.types.is_string_dtype(content):\n",
    "        testing_data_store[label] = content.astype('category').cat.as_ordered()"
   ]
  },
  {
   "cell_type": "code",
   "execution_count": 472,
   "id": "5dce2070",
   "metadata": {},
   "outputs": [
    {
     "data": {
      "text/plain": [
       "0       2\n",
       "1       2\n",
       "2       2\n",
       "3       2\n",
       "4       2\n",
       "       ..\n",
       "3595    0\n",
       "3596    0\n",
       "3597    0\n",
       "3598    0\n",
       "3599    0\n",
       "Length: 3600, dtype: int8"
      ]
     },
     "execution_count": 472,
     "metadata": {},
     "output_type": "execute_result"
    }
   ],
   "source": [
    "testing_data_store['class_'].cat.codes"
   ]
  },
  {
   "cell_type": "code",
   "execution_count": 473,
   "id": "680737db",
   "metadata": {},
   "outputs": [],
   "source": [
    "testing_data_store['class_'] = testing_data_store['class_'].cat.codes"
   ]
  },
  {
   "cell_type": "code",
   "execution_count": 477,
   "id": "9452769d",
   "metadata": {},
   "outputs": [],
   "source": [
    "X = testing_data_store.drop(['class_'], axis='columns')\n",
    "y = np.ravel(testing_data_store['class_'])"
   ]
  },
  {
   "cell_type": "code",
   "execution_count": 478,
   "id": "8e5511d9",
   "metadata": {},
   "outputs": [],
   "source": [
    "X_train, X_temp, y_train, y_temp = train_test_split(X, y, test_size=0.4, random_state=0)\n",
    "X_valid, X_test, y_valid, y_test = train_test_split(X_temp, y_temp, test_size=0.5, random_state=0)"
   ]
  },
  {
   "cell_type": "code",
   "execution_count": 479,
   "id": "b71614b5",
   "metadata": {},
   "outputs": [],
   "source": [
    "x_train, y_train = X_train , y_train\n",
    "x_test, y_test = X_test, y_test\n",
    "batch_size = 64\n",
    "epochs = 5"
   ]
  },
  {
   "cell_type": "code",
   "execution_count": 480,
   "id": "a62b81f3",
   "metadata": {},
   "outputs": [
    {
     "data": {
      "text/plain": [
       "((2160, 6), (2160,))"
      ]
     },
     "execution_count": 480,
     "metadata": {},
     "output_type": "execute_result"
    }
   ],
   "source": [
    "x_train.shape, y_train.shape"
   ]
  },
  {
   "cell_type": "markdown",
   "id": "5ac341c2",
   "metadata": {},
   "source": [
    "# SimpleRNN"
   ]
  },
  {
   "cell_type": "code",
   "execution_count": 481,
   "id": "481bd448",
   "metadata": {},
   "outputs": [
    {
     "name": "stdout",
     "output_type": "stream",
     "text": [
      "Epoch 1/5\n",
      "34/34 - 1s - loss: 1.3755 - accuracy: 0.4579 - 689ms/epoch - 20ms/step\n",
      "Epoch 2/5\n",
      "34/34 - 0s - loss: 1.0177 - accuracy: 0.5944 - 101ms/epoch - 3ms/step\n",
      "Epoch 3/5\n",
      "34/34 - 0s - loss: 0.9299 - accuracy: 0.6514 - 92ms/epoch - 3ms/step\n",
      "Epoch 4/5\n",
      "34/34 - 0s - loss: 0.8803 - accuracy: 0.6662 - 110ms/epoch - 3ms/step\n",
      "Epoch 5/5\n",
      "34/34 - 0s - loss: 0.8263 - accuracy: 0.6972 - 92ms/epoch - 3ms/step\n",
      "12/12 - 0s - loss: 0.8438 - accuracy: 0.6694 - 178ms/epoch - 15ms/step\n"
     ]
    },
    {
     "data": {
      "text/plain": [
       "[0.8437779545783997, 0.6694444417953491]"
      ]
     },
     "execution_count": 481,
     "metadata": {},
     "output_type": "execute_result"
    }
   ],
   "source": [
    "model = Sequential()\n",
    "model.add(keras.Input(shape=(6,1)))\n",
    "model.add(layers.SimpleRNN(128,return_sequences=False, activation='relu')) # N, 128\n",
    "model.add(layers.Dense(10))\n",
    "\n",
    "\n",
    "# loss and optimizer\n",
    "loss = keras.losses.SparseCategoricalCrossentropy(from_logits=True)\n",
    "optim = keras.optimizers.Adam(learning_rate=0.001)\n",
    "metrics = ['accuracy']\n",
    "\n",
    "model.compile(loss=loss, optimizer=optim, metrics=metrics)\n",
    "\n",
    "model.fit(x_train, y_train, batch_size=batch_size, epochs=epochs, verbose=2)\n",
    "\n",
    "model.evaluate(x_test, y_test, batch_size=batch_size, verbose=2)"
   ]
  },
  {
   "cell_type": "markdown",
   "id": "b6dc8247",
   "metadata": {},
   "source": [
    "# GRU"
   ]
  },
  {
   "cell_type": "code",
   "execution_count": 482,
   "id": "50c25d16",
   "metadata": {},
   "outputs": [
    {
     "name": "stdout",
     "output_type": "stream",
     "text": [
      "Epoch 1/5\n",
      "34/34 - 1s - loss: 1.7664 - accuracy: 0.3546 - 1s/epoch - 37ms/step\n",
      "Epoch 2/5\n",
      "34/34 - 0s - loss: 1.1162 - accuracy: 0.4995 - 192ms/epoch - 6ms/step\n",
      "Epoch 3/5\n",
      "34/34 - 0s - loss: 0.9772 - accuracy: 0.5940 - 195ms/epoch - 6ms/step\n",
      "Epoch 4/5\n",
      "34/34 - 0s - loss: 0.9165 - accuracy: 0.6315 - 194ms/epoch - 6ms/step\n",
      "Epoch 5/5\n",
      "34/34 - 0s - loss: 0.8649 - accuracy: 0.6579 - 207ms/epoch - 6ms/step\n",
      "12/12 - 0s - loss: 0.8343 - accuracy: 0.6625 - 245ms/epoch - 20ms/step\n"
     ]
    },
    {
     "data": {
      "text/plain": [
       "[0.8342746496200562, 0.6625000238418579]"
      ]
     },
     "execution_count": 482,
     "metadata": {},
     "output_type": "execute_result"
    }
   ],
   "source": [
    "model = keras.models.Sequential()\n",
    "model.add(keras.Input(shape=(6, 1))) # seq_length, input_size\n",
    "# model.add(layers.SimpleRNN(128,return_sequences=True, activation='relu')) # N, 28, 128\n",
    "model.add(layers.GRU(128,return_sequences=False, activation='relu')) # N, 128\n",
    "\n",
    "model.add(layers.Dense(10))\n",
    "\n",
    "# loss and optimizer\n",
    "loss = keras.losses.SparseCategoricalCrossentropy(from_logits=True)\n",
    "optim = keras.optimizers.Adam(learning_rate=0.001)\n",
    "metrics = ['accuracy']\n",
    "\n",
    "model.compile(loss=loss, optimizer=optim, metrics=metrics)\n",
    "\n",
    "model.fit(x_train, y_train, batch_size=batch_size, epochs=epochs, verbose=2)\n",
    "\n",
    "# evaluate\n",
    "model.evaluate(x_test, y_test, batch_size=batch_size, verbose=2)"
   ]
  },
  {
   "cell_type": "markdown",
   "id": "34666188",
   "metadata": {},
   "source": [
    "# LSTM"
   ]
  },
  {
   "cell_type": "code",
   "execution_count": 483,
   "id": "7b35f8da",
   "metadata": {},
   "outputs": [
    {
     "name": "stdout",
     "output_type": "stream",
     "text": [
      "Epoch 1/5\n",
      "34/34 - 1s - loss: 1.6878 - accuracy: 0.3597 - 1s/epoch - 34ms/step\n",
      "Epoch 2/5\n",
      "34/34 - 0s - loss: 1.1969 - accuracy: 0.4644 - 213ms/epoch - 6ms/step\n",
      "Epoch 3/5\n",
      "34/34 - 0s - loss: 1.0142 - accuracy: 0.5681 - 212ms/epoch - 6ms/step\n",
      "Epoch 4/5\n",
      "34/34 - 0s - loss: 0.9779 - accuracy: 0.6014 - 220ms/epoch - 6ms/step\n",
      "Epoch 5/5\n",
      "34/34 - 0s - loss: 0.9279 - accuracy: 0.6352 - 242ms/epoch - 7ms/step\n",
      "12/12 - 0s - loss: 0.9007 - accuracy: 0.6472 - 222ms/epoch - 19ms/step\n"
     ]
    },
    {
     "data": {
      "text/plain": [
       "[0.9006998538970947, 0.6472222208976746]"
      ]
     },
     "execution_count": 483,
     "metadata": {},
     "output_type": "execute_result"
    }
   ],
   "source": [
    "model = keras.models.Sequential()\n",
    "model.add(keras.Input(shape=(6, 1))) # seq_length, input_size\n",
    "# model.add(layers.SimpleRNN(128,return_sequences=True, activation='relu')) # N, 28, 128\n",
    "model.add(layers.LSTM(128,return_sequences=False, activation='relu')) # N, 128\n",
    "\n",
    "model.add(layers.Dense(10))\n",
    "\n",
    "# loss and optimizer\n",
    "loss = keras.losses.SparseCategoricalCrossentropy(from_logits=True)\n",
    "optim = keras.optimizers.Adam(learning_rate=0.001)\n",
    "metrics = ['accuracy']\n",
    "\n",
    "model.compile(loss=loss, optimizer=optim, metrics=metrics)\n",
    "\n",
    "model.fit(x_train, y_train, batch_size=batch_size, epochs=epochs, verbose=2)\n",
    "\n",
    "# evaluate\n",
    "model.evaluate(x_test, y_test, batch_size=batch_size, verbose=2)"
   ]
  },
  {
   "cell_type": "code",
   "execution_count": null,
   "id": "ff53350c",
   "metadata": {},
   "outputs": [],
   "source": []
  },
  {
   "cell_type": "code",
   "execution_count": null,
   "id": "def3ee25",
   "metadata": {},
   "outputs": [],
   "source": []
  },
  {
   "cell_type": "code",
   "execution_count": null,
   "id": "05e994af",
   "metadata": {},
   "outputs": [],
   "source": []
  }
 ],
 "metadata": {
  "kernelspec": {
   "display_name": "Python 3 (ipykernel)",
   "language": "python",
   "name": "python3"
  },
  "language_info": {
   "codemirror_mode": {
    "name": "ipython",
    "version": 3
   },
   "file_extension": ".py",
   "mimetype": "text/x-python",
   "name": "python",
   "nbconvert_exporter": "python",
   "pygments_lexer": "ipython3",
   "version": "3.10.4"
  }
 },
 "nbformat": 4,
 "nbformat_minor": 5
}
